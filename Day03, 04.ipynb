{
 "cells": [
  {
   "cell_type": "markdown",
   "metadata": {},
   "source": [
    "# Conditions"
   ]
  },
  {
   "cell_type": "markdown",
   "metadata": {},
   "source": [
    "1. Basic if statement\n",
    "\n",
    "The if statement checks a condition. If the condition is True, the code inside the if block will run."
   ]
  },
  {
   "cell_type": "code",
   "execution_count": 4,
   "metadata": {},
   "outputs": [],
   "source": [
    "# Check if age is 18 or more, display 'Eligible to vote'\n",
    "\n",
    "age = int(input('Enter your age'))  # Input func always store values in string datatype\n",
    "\n",
    "if age >= 18:  # Ture\n",
    "    print('You are eligible to vote!')"
   ]
  },
  {
   "cell_type": "markdown",
   "metadata": {},
   "source": [
    "2. if-else statement\n",
    "\n",
    "If the condition of 'if block' is false, that's where the else parts comes in. It runs when the if condition is False."
   ]
  },
  {
   "cell_type": "code",
   "execution_count": null,
   "metadata": {},
   "outputs": [
    {
     "name": "stdout",
     "output_type": "stream",
     "text": [
      "You are not eligible to vote.\n"
     ]
    }
   ],
   "source": [
    "age = int(input('Enter your age'))  # Input func always store values in string datatype\n",
    "\n",
    "if age >= 18:  # False\n",
    "    print('You are eligible to vote!')\n",
    "    \n",
    "else:\n",
    "    print('You are not eligible to vote.')"
   ]
  },
  {
   "cell_type": "code",
   "execution_count": null,
   "metadata": {},
   "outputs": [
    {
     "name": "stdout",
     "output_type": "stream",
     "text": [
      "Fail.\n"
     ]
    }
   ],
   "source": [
    "# Marks as input.\n",
    "\n",
    "# If marks are greater than or equal to 50, we have to print Pass\n",
    "# Otherwise, fail.\n",
    "\n",
    "marks = int(input('Enter your marks')) # 30\n",
    "\n",
    "if marks >= 50: # False\n",
    "    print('Pass')\n",
    "    \n",
    "else:\n",
    "    print('Fail.')"
   ]
  },
  {
   "cell_type": "markdown",
   "metadata": {},
   "source": [
    "3. elif statement"
   ]
  },
  {
   "cell_type": "markdown",
   "metadata": {},
   "source": [
    "Sometime, we have more than two possibilities. FOr this, we can use elif."
   ]
  },
  {
   "cell_type": "code",
   "execution_count": null,
   "metadata": {},
   "outputs": [],
   "source": [
    "# Take percentage as input.\n",
    "\n",
    "# If percentage is greater than or equal to 90, print Grade A \n",
    "# If not, check if percentage is greater than or equal to 70, print Grade B.\n",
    "# If not, check if percentage is greater than or equal to 50, print Grade C \n",
    "# Otherwise, print Grade F."
   ]
  },
  {
   "cell_type": "code",
   "execution_count": 9,
   "metadata": {},
   "outputs": [
    {
     "name": "stdout",
     "output_type": "stream",
     "text": [
      "Grade A\n"
     ]
    }
   ],
   "source": [
    "percentage = int(input('Enter your percentage: '))  # 99\n",
    "\n",
    "\n",
    "if percentage >= 90:  # True\n",
    "    print('Grade A')\n",
    "    \n",
    "    # Program will end\n",
    "    \n",
    "elif percentage >= 70:\n",
    "    print('Grade B')\n",
    "    \n",
    "elif percentage >= 50: \n",
    "    print('Grade C')\n",
    "    \n",
    "else:\n",
    "    print('Grade F')"
   ]
  },
  {
   "cell_type": "code",
   "execution_count": 12,
   "metadata": {},
   "outputs": [
    {
     "name": "stdout",
     "output_type": "stream",
     "text": [
      "Grade B\n",
      "Grade C\n"
     ]
    }
   ],
   "source": [
    "percentage = int(input('Enter your percentage: '))  # 99\n",
    "\n",
    "\n",
    "if percentage >= 90:  # True\n",
    "    print('Grade A')   \n",
    "    \n",
    "if percentage >= 70: # True\n",
    "    print('Grade B')\n",
    "    \n",
    "if percentage >= 50: # True\n",
    "    print('Grade C')\n",
    "    \n",
    "else:\n",
    "    print('Grade F')"
   ]
  },
  {
   "cell_type": "markdown",
   "metadata": {},
   "source": []
  },
  {
   "cell_type": "markdown",
   "metadata": {},
   "source": [
    "4. Conditions with Logical Operators"
   ]
  },
  {
   "cell_type": "code",
   "execution_count": null,
   "metadata": {},
   "outputs": [],
   "source": [
    "# and: It means both condition must be true, for the if block to execute\n",
    "# or: It means at least one condition must be true"
   ]
  },
  {
   "cell_type": "markdown",
   "metadata": {},
   "source": [
    "- Age Check: The cinema allows only adults (18 or older)\n",
    "- Ticket Check: Even if you're old enough, you still need a valid ticket to enter\n",
    "\n",
    "\n",
    "- Req 1: Age\n",
    "- Req 2: Ticket"
   ]
  },
  {
   "cell_type": "markdown",
   "metadata": {},
   "source": [
    "and operator"
   ]
  },
  {
   "cell_type": "code",
   "execution_count": 16,
   "metadata": {},
   "outputs": [
    {
     "name": "stdout",
     "output_type": "stream",
     "text": [
      "You can't watch the movie\n"
     ]
    }
   ],
   "source": [
    "age = 15\n",
    "has_ticket = True\n",
    "\n",
    "if age >= 18 and has_ticket == True:\n",
    "    print('You can watch the movie')\n",
    "    \n",
    "else:\n",
    "    print(\"You can't watch the movie\")"
   ]
  },
  {
   "cell_type": "markdown",
   "metadata": {},
   "source": [
    "or operator"
   ]
  },
  {
   "cell_type": "code",
   "execution_count": 17,
   "metadata": {},
   "outputs": [
    {
     "name": "stdout",
     "output_type": "stream",
     "text": [
      "Weekday\n"
     ]
    }
   ],
   "source": [
    "# If the day is Saturday or SUnday i have to print Weekend\n",
    "# Otherwise Weekday\n",
    "\n",
    "day = 'Monday'\n",
    "\n",
    "if day == 'Saturday' or day == 'Sunday':\n",
    "    print('Weekend')\n",
    "    \n",
    "else:\n",
    "    print('Weekday')"
   ]
  },
  {
   "cell_type": "code",
   "execution_count": null,
   "metadata": {},
   "outputs": [],
   "source": []
  }
 ],
 "metadata": {
  "kernelspec": {
   "display_name": "Python 3",
   "language": "python",
   "name": "python3"
  },
  "language_info": {
   "codemirror_mode": {
    "name": "ipython",
    "version": 3
   },
   "file_extension": ".py",
   "mimetype": "text/x-python",
   "name": "python",
   "nbconvert_exporter": "python",
   "pygments_lexer": "ipython3",
   "version": "3.12.0"
  }
 },
 "nbformat": 4,
 "nbformat_minor": 2
}
